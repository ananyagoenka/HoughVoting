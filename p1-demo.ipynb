{
 "cells": [
  {
   "cell_type": "code",
   "execution_count": 1,
   "id": "56bb3c4b",
   "metadata": {},
   "outputs": [
    {
     "ename": "ModuleNotFoundError",
     "evalue": "No module named 'matplotlib'",
     "output_type": "error",
     "traceback": [
      "\u001b[0;31m---------------------------------------------------------------------------\u001b[0m",
      "\u001b[0;31mModuleNotFoundError\u001b[0m                       Traceback (most recent call last)",
      "Cell \u001b[0;32mIn[1], line 1\u001b[0m\n\u001b[0;32m----> 1\u001b[0m get_ipython()\u001b[39m.\u001b[39;49mrun_line_magic(\u001b[39m'\u001b[39;49m\u001b[39mmatplotlib\u001b[39;49m\u001b[39m'\u001b[39;49m, \u001b[39m'\u001b[39;49m\u001b[39minline\u001b[39;49m\u001b[39m'\u001b[39;49m)\n\u001b[1;32m      2\u001b[0m \u001b[39mimport\u001b[39;00m \u001b[39mp1\u001b[39;00m\n\u001b[1;32m      3\u001b[0m \u001b[39mimport\u001b[39;00m \u001b[39mmatplotlib\u001b[39;00m\u001b[39m.\u001b[39;00m\u001b[39mpyplot\u001b[39;00m \u001b[39mas\u001b[39;00m \u001b[39mplt\u001b[39;00m\n",
      "File \u001b[0;32m~/Library/Python/3.11/lib/python/site-packages/IPython/core/interactiveshell.py:2369\u001b[0m, in \u001b[0;36mInteractiveShell.run_line_magic\u001b[0;34m(self, magic_name, line, _stack_depth)\u001b[0m\n\u001b[1;32m   2367\u001b[0m     kwargs[\u001b[39m'\u001b[39m\u001b[39mlocal_ns\u001b[39m\u001b[39m'\u001b[39m] \u001b[39m=\u001b[39m \u001b[39mself\u001b[39m\u001b[39m.\u001b[39mget_local_scope(stack_depth)\n\u001b[1;32m   2368\u001b[0m \u001b[39mwith\u001b[39;00m \u001b[39mself\u001b[39m\u001b[39m.\u001b[39mbuiltin_trap:\n\u001b[0;32m-> 2369\u001b[0m     result \u001b[39m=\u001b[39m fn(\u001b[39m*\u001b[39;49margs, \u001b[39m*\u001b[39;49m\u001b[39m*\u001b[39;49mkwargs)\n\u001b[1;32m   2371\u001b[0m \u001b[39m# The code below prevents the output from being displayed\u001b[39;00m\n\u001b[1;32m   2372\u001b[0m \u001b[39m# when using magics with decodator @output_can_be_silenced\u001b[39;00m\n\u001b[1;32m   2373\u001b[0m \u001b[39m# when the last Python token in the expression is a ';'.\u001b[39;00m\n\u001b[1;32m   2374\u001b[0m \u001b[39mif\u001b[39;00m \u001b[39mgetattr\u001b[39m(fn, magic\u001b[39m.\u001b[39mMAGIC_OUTPUT_CAN_BE_SILENCED, \u001b[39mFalse\u001b[39;00m):\n",
      "File \u001b[0;32m~/Library/Python/3.11/lib/python/site-packages/IPython/core/magics/pylab.py:99\u001b[0m, in \u001b[0;36mPylabMagics.matplotlib\u001b[0;34m(self, line)\u001b[0m\n\u001b[1;32m     97\u001b[0m     \u001b[39mprint\u001b[39m(\u001b[39m\"\u001b[39m\u001b[39mAvailable matplotlib backends: \u001b[39m\u001b[39m%s\u001b[39;00m\u001b[39m\"\u001b[39m \u001b[39m%\u001b[39m backends_list)\n\u001b[1;32m     98\u001b[0m \u001b[39melse\u001b[39;00m:\n\u001b[0;32m---> 99\u001b[0m     gui, backend \u001b[39m=\u001b[39m \u001b[39mself\u001b[39;49m\u001b[39m.\u001b[39;49mshell\u001b[39m.\u001b[39;49menable_matplotlib(args\u001b[39m.\u001b[39;49mgui\u001b[39m.\u001b[39;49mlower() \u001b[39mif\u001b[39;49;00m \u001b[39misinstance\u001b[39;49m(args\u001b[39m.\u001b[39;49mgui, \u001b[39mstr\u001b[39;49m) \u001b[39melse\u001b[39;49;00m args\u001b[39m.\u001b[39;49mgui)\n\u001b[1;32m    100\u001b[0m     \u001b[39mself\u001b[39m\u001b[39m.\u001b[39m_show_matplotlib_backend(args\u001b[39m.\u001b[39mgui, backend)\n",
      "File \u001b[0;32m~/Library/Python/3.11/lib/python/site-packages/IPython/core/interactiveshell.py:3540\u001b[0m, in \u001b[0;36mInteractiveShell.enable_matplotlib\u001b[0;34m(self, gui)\u001b[0m\n\u001b[1;32m   3519\u001b[0m \u001b[39mdef\u001b[39;00m \u001b[39menable_matplotlib\u001b[39m(\u001b[39mself\u001b[39m, gui\u001b[39m=\u001b[39m\u001b[39mNone\u001b[39;00m):\n\u001b[1;32m   3520\u001b[0m \u001b[39m    \u001b[39m\u001b[39m\"\"\"Enable interactive matplotlib and inline figure support.\u001b[39;00m\n\u001b[1;32m   3521\u001b[0m \n\u001b[1;32m   3522\u001b[0m \u001b[39m    This takes the following steps:\u001b[39;00m\n\u001b[0;32m   (...)\u001b[0m\n\u001b[1;32m   3538\u001b[0m \u001b[39m        display figures inline.\u001b[39;00m\n\u001b[1;32m   3539\u001b[0m \u001b[39m    \"\"\"\u001b[39;00m\n\u001b[0;32m-> 3540\u001b[0m     \u001b[39mfrom\u001b[39;00m \u001b[39mmatplotlib_inline\u001b[39;00m\u001b[39m.\u001b[39;00m\u001b[39mbackend_inline\u001b[39;00m \u001b[39mimport\u001b[39;00m configure_inline_support\n\u001b[1;32m   3542\u001b[0m     \u001b[39mfrom\u001b[39;00m \u001b[39mIPython\u001b[39;00m\u001b[39m.\u001b[39;00m\u001b[39mcore\u001b[39;00m \u001b[39mimport\u001b[39;00m pylabtools \u001b[39mas\u001b[39;00m pt\n\u001b[1;32m   3543\u001b[0m     gui, backend \u001b[39m=\u001b[39m pt\u001b[39m.\u001b[39mfind_gui_and_backend(gui, \u001b[39mself\u001b[39m\u001b[39m.\u001b[39mpylab_gui_select)\n",
      "File \u001b[0;32m~/Library/Python/3.11/lib/python/site-packages/matplotlib_inline/__init__.py:1\u001b[0m\n\u001b[0;32m----> 1\u001b[0m \u001b[39mfrom\u001b[39;00m \u001b[39m.\u001b[39;00m \u001b[39mimport\u001b[39;00m backend_inline, config  \u001b[39m# noqa\u001b[39;00m\n\u001b[1;32m      2\u001b[0m __version__ \u001b[39m=\u001b[39m \u001b[39m\"\u001b[39m\u001b[39m0.1.6\u001b[39m\u001b[39m\"\u001b[39m  \u001b[39m# noqa\u001b[39;00m\n",
      "File \u001b[0;32m~/Library/Python/3.11/lib/python/site-packages/matplotlib_inline/backend_inline.py:6\u001b[0m\n\u001b[1;32m      1\u001b[0m \u001b[39m\"\"\"A matplotlib backend for publishing figures via display_data\"\"\"\u001b[39;00m\n\u001b[1;32m      3\u001b[0m \u001b[39m# Copyright (c) IPython Development Team.\u001b[39;00m\n\u001b[1;32m      4\u001b[0m \u001b[39m# Distributed under the terms of the BSD 3-Clause License.\u001b[39;00m\n\u001b[0;32m----> 6\u001b[0m \u001b[39mimport\u001b[39;00m \u001b[39mmatplotlib\u001b[39;00m\n\u001b[1;32m      7\u001b[0m \u001b[39mfrom\u001b[39;00m \u001b[39mmatplotlib\u001b[39;00m \u001b[39mimport\u001b[39;00m colors\n\u001b[1;32m      8\u001b[0m \u001b[39mfrom\u001b[39;00m \u001b[39mmatplotlib\u001b[39;00m\u001b[39m.\u001b[39;00m\u001b[39mbackends\u001b[39;00m \u001b[39mimport\u001b[39;00m backend_agg\n",
      "\u001b[0;31mModuleNotFoundError\u001b[0m: No module named 'matplotlib'"
     ]
    }
   ],
   "source": [
    "%matplotlib inline\n",
    "import p1\n",
    "import matplotlib.pyplot as plt\n",
    "import numpy as np"
   ]
  },
  {
   "cell_type": "markdown",
   "id": "d3654a4b",
   "metadata": {},
   "source": [
    "# Part 1: Basic Image Processing\n",
    "\n",
    "Let's first read an image in and see how it looks!"
   ]
  },
  {
   "cell_type": "code",
   "execution_count": null,
   "id": "a8ee7c3a",
   "metadata": {},
   "outputs": [],
   "source": [
    "img = p1.imread('img.jpg')\n",
    "plt.imshow(img)"
   ]
  },
  {
   "cell_type": "markdown",
   "id": "089621df",
   "metadata": {},
   "source": [
    "## Filtering\n",
    "\n",
    "Let's convolve with Gaussians of two different standard deviations and see what that gives us!"
   ]
  },
  {
   "cell_type": "code",
   "execution_count": null,
   "id": "4e15247e",
   "metadata": {},
   "outputs": [],
   "source": [
    "filt1 = p1.gaussian_filter(11,3)\n",
    "filt2 = p1.gaussian_filter(11,1)\n",
    "gaussian_filtered1 = p1.convolve(img, filt1)\n",
    "gaussian_filtered2 = p1.convolve(img, filt2)\n",
    "plt.figure(); plt.imshow(gaussian_filtered1)\n",
    "plt.figure(); plt.imshow(gaussian_filtered2)"
   ]
  },
  {
   "cell_type": "markdown",
   "id": "e4046b30",
   "metadata": {},
   "source": [
    "## Image gradients\n",
    "\n",
    "Let's now compute image gradients and visualize the gradient magnitude."
   ]
  },
  {
   "cell_type": "code",
   "execution_count": null,
   "id": "97424329",
   "metadata": {},
   "outputs": [],
   "source": [
    "gradmag, gradori = p1.gradient(img)\n",
    "plt.figure(); plt.imshow(gradmag, cmap = plt.get_cmap('gray'), vmax = 1)"
   ]
  },
  {
   "cell_type": "markdown",
   "id": "f6b71445",
   "metadata": {},
   "source": [
    "We can threshold the gradient image to get pixels on the boundary. We can even try to find all pixels with gradient orientation between 30 degrees and 90 degrees."
   ]
  },
  {
   "cell_type": "code",
   "execution_count": null,
   "id": "c217ff13",
   "metadata": {},
   "outputs": [],
   "source": [
    "plt.figure(); plt.imshow(gradmag>0.1, cmap=plt.get_cmap('gray'))\n",
    "plt.figure(); plt.imshow((gradmag>0.1) & (gradori>np.pi/6) & (gradori<np.pi/2), cmap = plt.get_cmap('gray'))"
   ]
  },
  {
   "cell_type": "markdown",
   "id": "8a6d9dc8",
   "metadata": {},
   "source": [
    "# Part 2: Line detection\n",
    "\n",
    "Now let's look for lines! We want to find the equation of every line in the image.\n",
    "Any line is parametrized by $\\theta$ and $c$, with the equation of the line given by:\n",
    "$$x \\cos \\theta + y \\sin \\theta + c = 0$$\n",
    "To detect lines, we will first define the set of possible values of $\\theta$ and $c$."
   ]
  },
  {
   "cell_type": "code",
   "execution_count": null,
   "id": "16d91736",
   "metadata": {},
   "outputs": [],
   "source": [
    "thetas = np.arange(-np.pi-np.pi/40, np.pi+np.pi/40, np.pi/40)\n",
    "imgdiagonal = np.sqrt(img.shape[0]**2 + img.shape[1]**2)\n",
    "cs = np.arange(-imgdiagonal, imgdiagonal, 0.5)"
   ]
  },
  {
   "cell_type": "markdown",
   "id": "833c9de6",
   "metadata": {},
   "source": [
    "Next we will do Hough voting. Let's look at what the votes look like!"
   ]
  },
  {
   "cell_type": "code",
   "execution_count": null,
   "id": "7effcb57",
   "metadata": {},
   "outputs": [],
   "source": [
    "votes = p1.hough_voting(gradmag, gradori, thetas, cs, 0.1, 0.5, np.pi/40)\n",
    "plt.figure(); plt.imshow(votes, aspect='auto', cmap=plt.get_cmap('gray'), vmax=20)"
   ]
  },
  {
   "cell_type": "markdown",
   "id": "48130138",
   "metadata": {},
   "source": [
    "Next let's find local maxima in this Hough transform, get the equations of the lines and draw the lines!"
   ]
  },
  {
   "cell_type": "code",
   "execution_count": null,
   "id": "3a278b93",
   "metadata": {},
   "outputs": [],
   "source": [
    "\n",
    "lines = p1.localmax(votes, thetas, cs, 20, 11)\n",
    "for (theta, c) in lines:\n",
    "    print('{:.02f}x + {:.02f}y + {:.02f} = 0'.format(np.cos(theta), np.sin(theta), c))\n",
    "\n",
    "\n",
    "newimg = p1.draw_lines(img, lines, 0.5)\n",
    "plt.imshow(newimg)\n"
   ]
  },
  {
   "cell_type": "markdown",
   "id": "bd25e8ea",
   "metadata": {},
   "source": [
    "Another example!"
   ]
  },
  {
   "cell_type": "code",
   "execution_count": null,
   "id": "c107eb1f",
   "metadata": {},
   "outputs": [],
   "source": [
    "img = p1.imread('img2.png')\n",
    "plt.figure(); plt.imshow(img)\n",
    "gradmag, gradori = p1.gradient(img)\n",
    "votes = p1.hough_voting(gradmag, gradori, thetas, cs, 0.1, 0.5, np.pi/40)\n",
    "lines = p1.localmax(votes, thetas, cs, 20, 11)\n",
    "for (theta, c) in lines:\n",
    "    print('{:.02f}x + {:.02f}y + {:.02f} = 0'.format(np.cos(theta), np.sin(theta), c))\n",
    "\n",
    "\n",
    "\n",
    "newimg = p1.draw_lines(img, lines, 0.5)\n",
    "plt.figure();plt.imshow(newimg)\n"
   ]
  },
  {
   "cell_type": "markdown",
   "id": "27b7d35e",
   "metadata": {},
   "source": []
  }
 ],
 "metadata": {
  "kernelspec": {
   "display_name": "Python 3",
   "language": "python",
   "name": "python3"
  },
  "language_info": {
   "codemirror_mode": {
    "name": "ipython",
    "version": 3
   },
   "file_extension": ".py",
   "mimetype": "text/x-python",
   "name": "python",
   "nbconvert_exporter": "python",
   "pygments_lexer": "ipython3",
   "version": "3.11.1"
  },
  "vscode": {
   "interpreter": {
    "hash": "5c7b89af1651d0b8571dde13640ecdccf7d5a6204171d6ab33e7c296e100e08a"
   }
  }
 },
 "nbformat": 4,
 "nbformat_minor": 5
}
